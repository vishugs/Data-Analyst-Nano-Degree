{
 "cells": [
  {
   "cell_type": "markdown",
   "metadata": {},
   "source": [
    "OBJECTIVE: In this project, I am conducting my own data analysis on a readily available datasetby asking questions and answering them using only Pandas and NumPy, thereby demonstrating the skill to conduct analysis using python programming. I will be using Matplotlib for the plots in this project. This project does not implement any machine learning techniques and hence the results are tentative only."
   ]
  },
  {
   "cell_type": "markdown",
   "metadata": {},
   "source": [
    "## STEP 1: CHOOSE THE DATASET"
   ]
  },
  {
   "cell_type": "markdown",
   "metadata": {},
   "source": [
    "I will be using the Titanic data, obtained from https://www.kaggle.com/c/titanic/data, to perform analysis in this project. This dataset contains demographics and passenger information from 891 of the 2224 passengers and crew on board the Titanic.\n",
    "\n",
    "Details on the structure of the dataset:\n",
    "\n",
    "#### VARIABLE DESCRIPTIONS:\n",
    "```\n",
    "Survival        Survival\n",
    "                (0 = No; 1 = Yes)\n",
    "\n",
    "Pclass          Passenger Class\n",
    "                (1 = 1st; 2 = 2nd; 3 = 3rd)\n",
    "\n",
    "Name            Name\n",
    "\n",
    "Sex             Sex\n",
    "\n",
    "Age             Age\n",
    "\n",
    "SibSp           Number of Siblings/Spouses Aboard\n",
    "\n",
    "Parch           Number of Parents/Children Aboard\n",
    "\n",
    "ticket          Ticket Number\n",
    "\n",
    "fare            Passenger Fare\n",
    "\n",
    "cabin           Cabin\n",
    "\n",
    "embarked        Port of Embarkation\n",
    "                (C = Cherbourg; Q = Queenstown; S = Southampton)\n",
    "```\n",
    "#### SPECIAL NOTES:\n",
    "\n",
    "pclass is a proxy for socio-economic status (SES)\n",
    "\n",
    "1st ~ Upper; 2nd ~ Middle; 3rd ~ Lower\n",
    "\n",
    "Age is in Years; Fractional if Age less than One (1)\n",
    " If the Age is Estimated, it is in the form xx.5\n",
    "\n",
    "\n",
    "With respect to the family relation variables (i.e. sibsp and parch)\n",
    "some relations were ignored.  The following are the definitions used\n",
    "for sibsp and parch.\n",
    "\n",
    "Sibling:  Brother, Sister, Stepbrother, or Stepsister of Passenger Aboard Titanic\n",
    "\n",
    "Spouse:   Husband or Wife of Passenger Aboard Titanic (Mistresses and Fiances Ignored)\n",
    "\n",
    "Parent:   Mother or Father of Passenger Aboard Titanic\n",
    "\n",
    "Child:    Son, Daughter, Stepson, or Stepdaughter of Passenger Aboard Titanic\n",
    "\n",
    "Other family relatives excluded from this study include cousins,\n",
    "nephews/nieces, aunts/uncles, and in-laws.  Some children travelled\n",
    "only with a nanny, therefore parch=0 for them.  As well, some\n",
    "travelled with very close friends or neighbors in a village, however,\n",
    "the definitions do not support such relations."
   ]
  },
  {
   "cell_type": "markdown",
   "metadata": {},
   "source": [
    "## STEP 2: PRE-PROCESS THE DATASET\n",
    "### Load the dataset"
   ]
  },
  {
   "cell_type": "code",
   "execution_count": 127,
   "metadata": {
    "collapsed": false
   },
   "outputs": [],
   "source": [
    "import unicodecsv\n",
    "\n",
    "with open('titanic-data.csv', 'rb') as f:\n",
    "    titanic_data = list(unicodecsv.DictReader(f))"
   ]
  },
  {
   "cell_type": "markdown",
   "metadata": {},
   "source": [
    "### Fix data format"
   ]
  },
  {
   "cell_type": "code",
   "execution_count": 73,
   "metadata": {
    "collapsed": false
   },
   "outputs": [],
   "source": [
    "# Takes a string which is either an empty string or represents an integer and returns an int or None\n",
    "def parse_int(i):\n",
    "    if i=='':\n",
    "        return None\n",
    "    else:\n",
    "        return int(i)\n",
    "\n",
    "# Takes a string which is either an empty string or represents an float and returns an float or None\n",
    "def parse_float(i):\n",
    "    if i=='' or i== None:\n",
    "        return None\n",
    "    else:\n",
    "        return float(i)\n",
    "    \n",
    "# Clean up the data types in titanic_data to represent data as integer or float to make it useful\n",
    "\n",
    "for passenger in titanic_data:\n",
    "    passenger['PassengerId']= parse_int(passenger['PassengerId'])\n",
    "    passenger['Survived']= parse_int(passenger['Survived'])\n",
    "    passenger['Pclass']= parse_int(passenger['Pclass'])\n",
    "    passenger['Age']= parse_float(passenger['Age'])\n",
    "    passenger['SibSp']= parse_int(passenger['SibSp'])\n",
    "    passenger['Parch']= parse_int(passenger['Parch'])\n",
    "    passenger['Fare']= parse_float(passenger['Fare'])"
   ]
  },
  {
   "cell_type": "markdown",
   "metadata": {},
   "source": [
    "# STEP 3: ANALYSE THE DATA OVER EACH PARAMETER\n",
    "\n",
    "So now, I have the data. What can I do with this data now? \n",
    "Well, looking at the parameters, I can ask the following questions:\n",
    "- What is the average age of the survived passengers as oppsed to the ones that did not survive?\n",
    "- How many of the survivers travelled with siblings, spouse, parents or children?\n",
    "- Did the class the passenger travelled in have an effect on their survival?\n",
    "- Did the embarkation point have an effect on their survival?\n",
    "- Did the cabin the passenger travelled in have an effect on their survival?\n",
    "\n",
    "\n",
    "### Split the dataset to represent 'survived' vs 'not survived' passengers"
   ]
  },
  {
   "cell_type": "code",
   "execution_count": 74,
   "metadata": {
    "collapsed": false
   },
   "outputs": [
    {
     "name": "stdout",
     "output_type": "stream",
     "text": [
      "342\n",
      "549\n"
     ]
    }
   ],
   "source": [
    "survived_passengers = []\n",
    "not_survived_passengers = []\n",
    "\n",
    "# Splitting the dataset into two sub-datasets representing passengers who survived \n",
    "# against those who did not survive\n",
    "\n",
    "for passenger in titanic_data:\n",
    "    if passenger['Survived'] == 1:\n",
    "        survived_passengers.append(passenger)\n",
    "    else:\n",
    "        not_survived_passengers.append(passenger)\n",
    "        \n",
    "print (len(survived_passengers))\n",
    "print (len(not_survived_passengers))"
   ]
  },
  {
   "cell_type": "markdown",
   "metadata": {},
   "source": [
    "### Average Age"
   ]
  },
  {
   "cell_type": "code",
   "execution_count": 76,
   "metadata": {
    "collapsed": false
   },
   "outputs": [
    {
     "data": {
      "image/png": "[encoded data removed]",
      "text/plain": [
       "<matplotlib.figure.Figure at 0x117181400>"
      ]
     },
     "metadata": {},
     "output_type": "display_data"
    },
    {
     "name": "stdout",
     "output_type": "stream",
     "text": [
      "       SURVIVED: Mean:  28.3436896552 | Standard Deviation:  14.9251522203\n",
      "DID NOT SURVIVE: Mean:  30.6261792453 | Standard Deviation:  14.1553876178\n"
     ]
    }
   ],
   "source": [
    "import numpy as np\n",
    "import matplotlib.pyplot as plt\n",
    "\n",
    "def create_hist(data, data2, title, xlabel, ylabel, num_of_bins):\n",
    "    plt.hist([data2], bins=num_of_bins, alpha=0.3, label = \"Did not survive\")\n",
    "    plt.hist([data], bins=num_of_bins, alpha=0.3, label = \"Survived\")\n",
    "    plt.xlabel(xlabel)\n",
    "    plt.ylabel(ylabel)\n",
    "    plt.title(title)\n",
    "    plt.legend(loc='upper right')\n",
    "    plt.show()\n",
    "    \n",
    "def avg_age_helper(passengers):\n",
    "    pass_list = []\n",
    "    for passenger in passengers:\n",
    "        if passenger.get('Age') != None:\n",
    "            pass_list.append(passenger.get('Age'))\n",
    "    \n",
    "    return pass_list\n",
    "\n",
    "def avg_age(survived_passengers, not_survived_passengers):\n",
    "    survived_pass = []\n",
    "    not_survived_pass = []\n",
    "    \n",
    "    create_hist(avg_age_helper(survived_passengers),avg_age_helper(not_survived_passengers),\"Average age of Passengers\", 'Age', 'Number of Passengers', [0,5,10,15,20,25,30,35,40,45,50,55,60,65,70,75,80,120])\n",
    "    print (\"       SURVIVED: Mean: \",np.mean(avg_age_helper(survived_passengers)), \"| Standard Deviation: \", np.std(avg_age_helper(survived_passengers)))\n",
    "    \n",
    "    #create_hist(avg_age_helper(not_survived_passengers),\"Age of Passengers who did not survive\", 'Age', 'Number of Passengers', [0,10,20,30,40,50,60,70,80,120])\n",
    "    print (\"DID NOT SURVIVE: Mean: \",np.mean(avg_age_helper(not_survived_passengers)), \"| Standard Deviation: \", np.std(avg_age_helper(not_survived_passengers)))\n",
    "\n",
    "avg_age(survived_passengers, not_survived_passengers)"
   ]
  },
  {
   "cell_type": "markdown",
   "metadata": {},
   "source": [
    "### Observation:\n",
    "- Infants (0-5 years old) and old people (>80 years) survived more\n",
    "- Since the average age of people who survived as opposed to those who did not is about the same, age alone might not have been a significant contributor for a person's survival."
   ]
  },
  {
   "cell_type": "markdown",
   "metadata": {},
   "source": [
    "### Effect of Gender"
   ]
  },
  {
   "cell_type": "code",
   "execution_count": 107,
   "metadata": {
    "collapsed": false,
    "scrolled": true
   },
   "outputs": [
    {
     "data": {
      "image/png": "[encoded data removed]",
      "text/plain": [
       "<matplotlib.figure.Figure at 0x1167e6a58>"
      ]
     },
     "metadata": {},
     "output_type": "display_data"
    },
    {
     "name": "stdout",
     "output_type": "stream",
     "text": [
      "Female: Survived:  233 \n",
      "Male: Survived:  109 \n",
      "Female: Did not survive:  81 \n",
      "Male: Did not survive:  468\n"
     ]
    }
   ],
   "source": [
    "def create_barplot(data1, data2, data3, data4, title, xlabel, ylabel, num_of_bins):\n",
    "    \n",
    "    objects = ('Female', 'Male')\n",
    "    x_pos = np.arange(len(objects))\n",
    "    y_value1 = [data1, data2]\n",
    "    y_value2 = [data3, data4]\n",
    " \n",
    "    plt.bar(x_pos, y_value1, alpha=0.7, color = 'g', label = 'SURVIVED')\n",
    "    plt.bar(x_pos, y_value2, alpha=0.3, color = 'r', label = 'DID NOT SURVIVE')\n",
    "    plt.xticks(x_pos, objects)\n",
    "    plt.ylabel('Passengers')\n",
    "    plt.title('Gender of Passengers')\n",
    "    plt.legend(loc='upper left')\n",
    "    plt.show()\n",
    "    \n",
    "def avg_gender_helper(passengers):\n",
    "    male = 0\n",
    "    female = 0\n",
    "    for passenger in passengers:\n",
    "        if passenger.get('Sex') == 'male':\n",
    "            male += 1\n",
    "        elif passenger.get('Sex') == 'female':\n",
    "            female += 1\n",
    "    return female, male\n",
    "\n",
    "def avg_gender(survived_passengers, not_survived_passengers):\n",
    "    survived_pass_female, survived_pass_male = avg_gender_helper(survived_passengers)\n",
    "    not_survived_pass_female, not_survived_pass_male = avg_gender_helper(not_survived_passengers)\n",
    "    \n",
    "    create_barplot(survived_pass_female, survived_pass_male, not_survived_pass_female, not_survived_pass_male,\\\n",
    "                \"Passenger's Gender\", 'Female/Male', 'Number of Passengers', 2)\n",
    "    print (\"Female: Survived: \", survived_pass_female, \"\\nMale: Survived: \",survived_pass_male, \"\\nFemale: Did not survive: \", not_survived_pass_female, \"\\nMale: Did not survive: \", not_survived_pass_male)\n",
    "     \n",
    "avg_gender(survived_passengers, not_survived_passengers)"
   ]
  },
  {
   "cell_type": "markdown",
   "metadata": {},
   "source": [
    "### Observation:\n",
    "- It can be seen that most females survived and very few males survived"
   ]
  },
  {
   "cell_type": "markdown",
   "metadata": {},
   "source": [
    "### How many travelled with siblings/spouse"
   ]
  },
  {
   "cell_type": "code",
   "execution_count": 109,
   "metadata": {
    "collapsed": false
   },
   "outputs": [
    {
     "data": {
      "image/png": "[encoded data removed]",
      "text/plain": [
       "<matplotlib.figure.Figure at 0x1167e4ef0>"
      ]
     },
     "metadata": {},
     "output_type": "display_data"
    },
    {
     "name": "stdout",
     "output_type": "stream",
     "text": [
      "Did not survive with Sib/Sp:  151 \n",
      "Survived with Sib/Sp:  132 \n",
      "Did not survive without Sib/Sp:  398 \n",
      "Survived without Sib/Sp:  210\n"
     ]
    }
   ],
   "source": [
    "def create_hist(data, data2, data3, data4, title, xlabel, ylabel, num_of_bins):\n",
    "    plt.hist([data2], bins=num_of_bins, alpha=0.5, label = \"Did not survive with Sib/Sp\")\n",
    "    plt.hist([data], bins=num_of_bins, alpha=0.5, label = \"Survived with Sib/Sp\")\n",
    "    plt.hist([data4], bins=num_of_bins, alpha=0.5, label = \"Did not survive without Sib/Sp\")\n",
    "    plt.hist([data3], bins=num_of_bins, alpha=0.5, label = \"Survived without Sib/Sp\")\n",
    "    plt.xlabel(xlabel)\n",
    "    plt.ylabel(ylabel)\n",
    "    plt.title(title)\n",
    "    plt.legend(loc='upper right')\n",
    "    plt.show()\n",
    "    \n",
    "def is_sibsp_helper(passengers):\n",
    "    pass_list = []\n",
    "    pass_list2 = []\n",
    "    for passenger in passengers:\n",
    "        if passenger.get('SibSp') >=1:\n",
    "            pass_list.append(passenger.get('SibSp'))\n",
    "        else:\n",
    "            pass_list2.append(passenger.get('SibSp'))\n",
    "    #return pass_list\n",
    "    return pass_list, pass_list2\n",
    "\n",
    "def is_sibsp(survived_passengers, not_survived_passengers):\n",
    "    survived_pass_with_sibsp, survived_pass_without_sibsp = is_sibsp_helper(survived_passengers)\n",
    "    not_survived_pass_with_sibsp, not_survived_pass_without_sibsp = is_sibsp_helper(not_survived_passengers)\n",
    "    \n",
    "    create_hist(survived_pass_with_sibsp, not_survived_pass_with_sibsp,survived_pass_without_sibsp, \\\n",
    "                not_survived_pass_without_sibsp,\"Passengers with or without Siblings/Spouse\",\\\n",
    "                'Siblings/Spouse', 'Number of Passengers', [0,1,5,10])\n",
    "    print (\"Did not survive with Sib/Sp: \", len(not_survived_pass_with_sibsp), \"\\nSurvived with Sib/Sp: \",\\\n",
    "           len(survived_pass_with_sibsp), \"\\nDid not survive without Sib/Sp: \",\\\n",
    "           len(not_survived_pass_without_sibsp), \"\\nSurvived without Sib/Sp: \", len(survived_pass_without_sibsp))\n",
    "    \n",
    "is_sibsp(survived_passengers, not_survived_passengers)"
   ]
  },
  {
   "cell_type": "markdown",
   "metadata": {},
   "source": [
    "### Observation:\n",
    "- People without Siblings or Spouse did not suurvive more often as compared to those who had\n",
    "- People with more than 5 Siblings + Spouse, more likely did not survive\n",
    "- However, about the same number of people with 1-5 Siblings & Spouse survived and died"
   ]
  },
  {
   "cell_type": "markdown",
   "metadata": {},
   "source": [
    "### How many travelled with parents/children"
   ]
  },
  {
   "cell_type": "code",
   "execution_count": 105,
   "metadata": {
    "collapsed": false,
    "scrolled": true
   },
   "outputs": [
    {
     "data": {
      "image/png": "[encoded data removed]",
      "text/plain": [
       "<matplotlib.figure.Figure at 0x1167e6d30>"
      ]
     },
     "metadata": {},
     "output_type": "display_data"
    },
    {
     "name": "stdout",
     "output_type": "stream",
     "text": [
      "Did not survive with Par/Ch:  104 \n",
      "Survived with Par/Ch:  109 \n",
      "Did not survive without Par/Ch:  445 \n",
      "Survived without Par/Ch:  233\n"
     ]
    }
   ],
   "source": [
    "def create_hist(data, data2, data3, data4, title, xlabel, ylabel, num_of_bins):\n",
    "    plt.hist([data2], bins=num_of_bins, alpha=0.5, label = \"Did not survive with Par/Ch\")\n",
    "    plt.hist([data], bins=num_of_bins, alpha=0.5, label = \"Survived with Par/Ch\")\n",
    "    plt.hist([data4], bins=num_of_bins, alpha=0.5, label = \"Did not survive without Par/Ch\")\n",
    "    plt.hist([data3], bins=num_of_bins, alpha=0.5, label = \"Survived without Par/Ch\")\n",
    "    plt.xlabel(xlabel)\n",
    "    plt.ylabel(ylabel)\n",
    "    plt.title(title)\n",
    "    plt.legend(loc='upper right')\n",
    "    plt.show()\n",
    "    \n",
    "def is_parch_helper(passengers):\n",
    "    pass_list = []\n",
    "    pass_list2 = []\n",
    "    for passenger in passengers:\n",
    "        if passenger.get('Parch') >=1:\n",
    "            pass_list.append(passenger.get('Parch'))\n",
    "        else:\n",
    "            pass_list2.append(passenger.get('Parch'))\n",
    "    #return pass_list\n",
    "    return pass_list, pass_list2\n",
    "\n",
    "def is_parch(survived_passengers, not_survived_passengers):\n",
    "    survived_pass_with_parch, survived_pass_without_parch = is_parch_helper(survived_passengers)\n",
    "    not_survived_pass_with_parch, not_survived_pass_without_parch = is_parch_helper(not_survived_passengers)\n",
    "    \n",
    "    create_hist(survived_pass_with_parch, not_survived_pass_with_parch, survived_pass_without_parch, \\\n",
    "                not_survived_pass_without_parch, \"Passengers with or without Parents/Children\",\\\n",
    "                'Parents/Children', 'Number of Passengers', [0,1,5,10])\n",
    "    print (\"Did not survive with Par/Ch: \", len(not_survived_pass_with_parch), \"\\nSurvived with Par/Ch: \",\\\n",
    "           len(survived_pass_with_parch), \"\\nDid not survive without Par/Ch: \", len(not_survived_pass_without_parch), \"\\nSurvived without Par/Ch: \", len(survived_pass_without_parch))\n",
    "    \n",
    "is_parch(survived_passengers, not_survived_passengers)"
   ]
  },
  {
   "cell_type": "markdown",
   "metadata": {},
   "source": [
    "### Observation:\n",
    "- People without Parents/Children did not suurvive more often as compared to those who had\n",
    "- People with more than 5 Parents + Children, more likely did not survive\n",
    "- However, about the same number of people with 1-5 Parents + Children survived and died"
   ]
  },
  {
   "cell_type": "markdown",
   "metadata": {},
   "source": [
    "### Effect of Socio-Economic class"
   ]
  },
  {
   "cell_type": "code",
   "execution_count": 123,
   "metadata": {
    "collapsed": false
   },
   "outputs": [
    {
     "data": {
      "image/png": "[encoded data removed]",
      "text/plain": [
       "<matplotlib.figure.Figure at 0x117328940>"
      ]
     },
     "metadata": {},
     "output_type": "display_data"
    }
   ],
   "source": [
    "def create_barplot(data_list1, data_list2, title, xlabel, ylabel):\n",
    "    \n",
    "    objects = ('1st Class', '2nd Class', '3rd Class')\n",
    "    x_pos = np.arange(len(objects))\n",
    "    y_value1 = data_list1\n",
    "    y_value2 = data_list2\n",
    " \n",
    "    plt.bar(x_pos, y_value1, alpha=0.9, color = 'b', label = 'SURVIVED')\n",
    "    plt.bar(x_pos, y_value2, alpha=0.7, color = 'r', label = 'DID NOT SURVIVE')\n",
    "    plt.xticks(x_pos, objects)\n",
    "    plt.ylabel(ylabel)\n",
    "    plt.title(title)\n",
    "    plt.legend(loc='upper left')\n",
    "    plt.show()\n",
    "\n",
    "def avg_pclass_helper(passengers):\n",
    "    pass_class = [0,0,0]\n",
    "    for passenger in passengers:\n",
    "        if passenger.get('Pclass') == 1:\n",
    "            pass_class[0] += 1\n",
    "        elif passenger.get('Pclass') == 2:\n",
    "            pass_class[1] += 1\n",
    "        elif passenger.get('Pclass') == 3:\n",
    "            pass_class[2] += 1\n",
    "    return pass_class\n",
    "    \n",
    "def avg_pclass(survived_passengers, not_survived_passengers):\n",
    "    survived_data_list = avg_pclass_helper(survived_passengers)\n",
    "    not_survived_data_list = avg_pclass_helper(not_survived_passengers)\n",
    "    \n",
    "    create_barplot(survived_data_list, not_survived_data_list,'Socio-Economic Class of Passengers','Parents/Children', 'Number of Passengers')\n",
    "\n",
    "\n",
    "avg_pclass(survived_passengers, not_survived_passengers)"
   ]
  },
  {
   "cell_type": "markdown",
   "metadata": {},
   "source": [
    "### Effect of embarkation point"
   ]
  },
  {
   "cell_type": "code",
   "execution_count": 135,
   "metadata": {
    "collapsed": false,
    "scrolled": true
   },
   "outputs": [
    {
     "data": {
      "image/png": "[encoded data removed]",
      "text/plain": [
       "<matplotlib.figure.Figure at 0x1168fbd68>"
      ]
     },
     "metadata": {},
     "output_type": "display_data"
    }
   ],
   "source": [
    "def create_barplot(data_list1, data_list2, title, xlabel, ylabel):\n",
    "    \n",
    "    objects = ('Cherbourg', 'Queenstown', 'Southampton1st Class')\n",
    "    x_pos = np.arange(len(objects))\n",
    "    y_value1 = data_list1\n",
    "    y_value2 = data_list2\n",
    " \n",
    "    plt.bar(x_pos, y_value1, alpha=0.7, color = 'r', label = 'SURVIVED')\n",
    "    plt.bar(x_pos, y_value2, alpha=0.4, color = 'g', label = 'DID NOT SURVIVE')\n",
    "    plt.xticks(x_pos, objects)\n",
    "    plt.ylabel(ylabel)\n",
    "    plt.title(title)\n",
    "    plt.legend(loc='upper left')\n",
    "    plt.show()\n",
    "\n",
    "def avg_embarked_helper(passengers):\n",
    "    pass_embarkation = [0,0,0]\n",
    "    for passenger in passengers:\n",
    "        if passenger.get('Embarked') == 'C':\n",
    "            pass_embarkation[0] += 1\n",
    "        elif passenger.get('Embarked') == 'Q':\n",
    "            pass_embarkation[1] += 1\n",
    "        elif passenger.get('Embarked') == 'S':\n",
    "            pass_embarkation[2] += 1\n",
    "    return pass_embarkation\n",
    "    \n",
    "def avg_embarked(survived_passengers, not_survived_passengers):\n",
    "    survived_data_list = avg_embarked_helper(survived_passengers)\n",
    "    not_survived_data_list = avg_embarked_helper(not_survived_passengers)\n",
    "    \n",
    "    create_barplot(survived_data_list, not_survived_data_list,'Embarkation Point of Passengers','Embarkation point', 'Number of Passengers')\n",
    "\n",
    "\n",
    "avg_embarked(survived_passengers, not_survived_passengers)"
   ]
  },
  {
   "cell_type": "markdown",
   "metadata": {},
   "source": [
    "### Observation:\n",
    "- Most people who boarded the ship from Cherbourg seemed to have survived\n",
    "- Several people who boarded from Southampton did not survive. However, this can be a little misleading. As according to me, this does not have much to do with the point of Embarkation as the number of passengers who survived at this point is much more than the others. "
   ]
  },
  {
   "cell_type": "markdown",
   "metadata": {},
   "source": [
    "## STEP 4: CONCLUSION\n",
    "\n",
    "From the above tests, we see that mostly female, infants, older people (>80 years) and 1st class paseengers survived"
   ]
  },
  {
   "cell_type": "code",
   "execution_count": 136,
   "metadata": {
    "collapsed": true
   },
   "outputs": [],
   "source": [
    "def create_barplot(data_list1, data_list2, title, xlabel, ylabel):\n",
    "    \n",
    "    objects = ('1st Class', '2nd Class', '3rd Class')\n",
    "    x_pos = np.arange(len(objects))\n",
    "    y_value1 = data_list1\n",
    "    y_value2 = data_list2\n",
    " \n",
    "    plt.bar(x_pos, y_value1, alpha=0.9, color = 'b', label = 'SURVIVED')\n",
    "    plt.bar(x_pos, y_value2, alpha=0.7, color = 'r', label = 'DID NOT SURVIVE')\n",
    "    plt.xticks(x_pos, objects)\n",
    "    plt.ylabel(ylabel)\n",
    "    plt.title(title)\n",
    "    plt.legend(loc='upper left')\n",
    "    plt.show()\n",
    "\n",
    "def avg_pclass_helper(passengers):\n",
    "    pass_class = [0,0,0]\n",
    "    for passenger in passengers:\n",
    "        if passenger.get('Pclass') == 1:\n",
    "            pass_class[0] += 1\n",
    "        elif passenger.get('Pclass') == 2:\n",
    "            pass_class[1] += 1\n",
    "        elif passenger.get('Pclass') == 3:\n",
    "            pass_class[2] += 1\n",
    "    return pass_class\n",
    "    \n",
    "def avg_pclass(survived_passengers, not_survived_passengers):\n",
    "    survived_data_list = avg_pclass_helper(survived_passengers)\n",
    "    not_survived_data_list = avg_pclass_helper(not_survived_passengers)\n",
    "    \n",
    "    create_barplot(survived_data_list, not_survived_data_list,'Socio-Economic Class of Passengers','Parents/Children', 'Number of Passengers')\n",
    "\n",
    "\n",
    "#avg_pclass(survived_passengers, not_survived_passengers)"
   ]
  }
 ],
 "metadata": {
  "kernelspec": {
   "display_name": "Python 3",
   "language": "python",
   "name": "python3"
  },
  "language_info": {
   "codemirror_mode": {
    "name": "ipython",
    "version": 3
   },
   "file_extension": ".py",
   "mimetype": "text/x-python",
   "name": "python",
   "nbconvert_exporter": "python",
   "pygments_lexer": "ipython3",
   "version": "3.6.0"
  }
 },
 "nbformat": 4,
 "nbformat_minor": 2
}
